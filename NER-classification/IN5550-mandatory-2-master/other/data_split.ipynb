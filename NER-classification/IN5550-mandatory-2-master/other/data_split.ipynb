{
 "cells": [
  {
   "cell_type": "code",
   "execution_count": 78,
   "id": "6c3a6cb9-21cc-442b-8aec-5acefe42cf55",
   "metadata": {},
   "outputs": [],
   "source": [
    "\n",
    "\n",
    "# Sklearn datasplit\n",
    "\n",
    "import gzip\n",
    "import os\n",
    "import pandas as pd\n",
    "import numpy as np\n",
    "from sklearn.model_selection import train_test_split"
   ]
  },
  {
   "cell_type": "code",
   "execution_count": 88,
   "id": "ed992160-6511-4fd4-9de1-4eedf6073dc8",
   "metadata": {},
   "outputs": [],
   "source": [
    "def convert_sentences_to_words(sent_label_pairs):\n",
    "    words = []\n",
    "    labels = []\n",
    "\n",
    "    for i, row in sent_label_pairs.iterrows():\n",
    "        words.extend(row['sentence'])\n",
    "        words.append(np.nan)\n",
    "        labels.extend(row['labels'])\n",
    "        labels.append(np.nan)\n",
    "\n",
    "            \n",
    "    df = pd.DataFrame({'word': words, 'label': labels})\n",
    "\n",
    "    return df"
   ]
  },
  {
   "cell_type": "code",
   "execution_count": 89,
   "id": "1cf12950-0fc7-43f2-877c-57c440ae286f",
   "metadata": {},
   "outputs": [],
   "source": [
    "\n",
    "train_split = 0.8\n",
    "\n",
    "file_name = f\"./data/train-en.tsv.gz\"\n",
    "\n",
    "sentences = []\n",
    "sent_labels = []\n",
    "\n",
    "\n",
    "with gzip.open(file_name, \"rb\") as f:\n",
    "    cur_sent = []\n",
    "    cur_labels = []\n",
    "    prev_idx = 0\n",
    "    \n",
    "    for line in f:\n",
    "        # New sentence if file contains an empty line\n",
    "        if not line.split():\n",
    "            sentences.append(cur_sent)\n",
    "            sent_labels.append(cur_labels)\n",
    "            cur_sent = []\n",
    "            cur_labels = []\n",
    "            cur_range = []\n",
    "            prev_idx = 0\n",
    "            continue\n",
    "            \n",
    "            \n",
    "        word, label = line.decode().split()\n",
    "        num = label\n",
    "        \n",
    "        # Add the word and label to the current sentence\n",
    "        cur_sent.append(word)\n",
    "        cur_labels.append(num)\n",
    "    \n",
    "    "
   ]
  },
  {
   "cell_type": "code",
   "execution_count": 90,
   "id": "9a4187f2-ad93-4928-9f3a-f5952f170b81",
   "metadata": {},
   "outputs": [],
   "source": [
    "# Store the data as .gz\n",
    "    \n",
    "\n",
    "train_file_name = 'train-split-en.tsv'\n",
    "val_file_name = 'val-split-en.tsv'\n",
    "\n",
    "df = pd.DataFrame({'sentence': sentences, 'labels': sent_labels})\n",
    "\n",
    "\n"
   ]
  },
  {
   "cell_type": "code",
   "execution_count": 91,
   "id": "ac169098-ec18-4615-9243-8dea8fced1ae",
   "metadata": {},
   "outputs": [
    {
     "name": "stdout",
     "output_type": "stream",
     "text": [
      "144663\n"
     ]
    }
   ],
   "source": [
    "train, val = train_test_split(df, test_size=1-train_split, random_state=42)"
   ]
  },
  {
   "cell_type": "code",
   "execution_count": 92,
   "id": "30947e00-b7bc-42e0-9323-4f36306f2490",
   "metadata": {},
   "outputs": [],
   "source": [
    "train_words_df = convert_sentences_to_words(train)\n",
    "val_words_df = convert_sentences_to_words(val)"
   ]
  },
  {
   "cell_type": "code",
   "execution_count": 93,
   "id": "9e1eccd3-90cf-409a-93e5-3220243482aa",
   "metadata": {},
   "outputs": [
    {
     "data": {
      "text/html": [
       "<div>\n",
       "<style scoped>\n",
       "    .dataframe tbody tr th:only-of-type {\n",
       "        vertical-align: middle;\n",
       "    }\n",
       "\n",
       "    .dataframe tbody tr th {\n",
       "        vertical-align: top;\n",
       "    }\n",
       "\n",
       "    .dataframe thead th {\n",
       "        text-align: right;\n",
       "    }\n",
       "</style>\n",
       "<table border=\"1\" class=\"dataframe\">\n",
       "  <thead>\n",
       "    <tr style=\"text-align: right;\">\n",
       "      <th></th>\n",
       "      <th>word</th>\n",
       "      <th>label</th>\n",
       "    </tr>\n",
       "  </thead>\n",
       "  <tbody>\n",
       "    <tr>\n",
       "      <th>0</th>\n",
       "      <td>The</td>\n",
       "      <td>O</td>\n",
       "    </tr>\n",
       "    <tr>\n",
       "      <th>1</th>\n",
       "      <td>2011</td>\n",
       "      <td>B-ORG</td>\n",
       "    </tr>\n",
       "    <tr>\n",
       "      <th>2</th>\n",
       "      <td>NCAA</td>\n",
       "      <td>I-ORG</td>\n",
       "    </tr>\n",
       "    <tr>\n",
       "      <th>3</th>\n",
       "      <td>Division</td>\n",
       "      <td>I-ORG</td>\n",
       "    </tr>\n",
       "    <tr>\n",
       "      <th>4</th>\n",
       "      <td>I</td>\n",
       "      <td>I-ORG</td>\n",
       "    </tr>\n",
       "  </tbody>\n",
       "</table>\n",
       "</div>"
      ],
      "text/plain": [
       "       word  label\n",
       "0       The      O\n",
       "1      2011  B-ORG\n",
       "2      NCAA  I-ORG\n",
       "3  Division  I-ORG\n",
       "4         I  I-ORG"
      ]
     },
     "execution_count": 93,
     "metadata": {},
     "output_type": "execute_result"
    }
   ],
   "source": [
    "train_words_df.head()"
   ]
  },
  {
   "cell_type": "code",
   "execution_count": 94,
   "id": "dc0d00a9-7129-412a-89cb-41030ce748c1",
   "metadata": {},
   "outputs": [
    {
     "data": {
      "text/plain": [
       "180388"
      ]
     },
     "execution_count": 94,
     "metadata": {},
     "output_type": "execute_result"
    }
   ],
   "source": [
    "len(train_words_df) + len(val_words_df)"
   ]
  },
  {
   "cell_type": "code",
   "execution_count": 98,
   "id": "c24e32a3-4d2b-4dad-b51b-27b3bdb3b5dd",
   "metadata": {},
   "outputs": [],
   "source": [
    "train_words_df.to_csv('train-en-split.tsv.gz', sep='\\t', index=False, compression='gzip', header=False) \n",
    "val_words_df.to_csv('val-en-split.tsv.gz', sep='\\t', index=False, compression='gzip', header=False) "
   ]
  }
 ],
 "metadata": {
  "kernelspec": {
   "display_name": "Python 3 (ipykernel)",
   "language": "python",
   "name": "python3"
  },
  "language_info": {
   "codemirror_mode": {
    "name": "ipython",
    "version": 3
   },
   "file_extension": ".py",
   "mimetype": "text/x-python",
   "name": "python",
   "nbconvert_exporter": "python",
   "pygments_lexer": "ipython3",
   "version": "3.10.8"
  }
 },
 "nbformat": 4,
 "nbformat_minor": 5
}
