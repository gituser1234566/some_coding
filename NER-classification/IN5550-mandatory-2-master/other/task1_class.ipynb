{
 "cells": [
  {
   "cell_type": "code",
   "execution_count": 1,
   "id": "b1ea6dbc-24c0-4683-ad49-0f7304e29468",
   "metadata": {},
   "outputs": [
    {
     "name": "stdout",
     "output_type": "stream",
     "text": [
      "cuda:0\n"
     ]
    }
   ],
   "source": [
    "import os\n",
    "import argparse\n",
    "import json\n",
    "from tqdm import tqdm\n",
    "import torch\n",
    "import torch.nn as nn\n",
    "import torch.nn.functional as F\n",
    "import transformers\n",
    "from transformers import AutoModelForTokenClassification, AutoTokenizer\n",
    "\n",
    "# set TOKENIZERS_PARALLELISM so that it doesn't annoy us\n",
    "os.environ[\"TOKENIZERS_PARALLELISM\"] = \"false\"\n",
    "def parse_arguments():\n",
    "    parser = argparse.ArgumentParser(description='Train a model on the SNLI dataset')\n",
    "    parser.add_argument('--model', type=str, default='/fp/homes01/u01/ec-rasyed/2024/labs/06/mand2/bert-base-multilingual-cased', help='The model to use')\n",
    "    parser.add_argument('--batch_size', type=int, default=32, help='The batch size')\n",
    "    parser.add_argument('--epochs', type=int, default=2, help='The number of epochs to train')\n",
    "    parser.add_argument('--lr', type=float, default=1e-4, help='The learning rate')\n",
    "    parser.add_argument('--seed', type=int, default=42, help='The random seed')\n",
    "    parser.add_argument('--warmup_steps', type=int, default=50, help='The number of warmup steps')\n",
    "    parser.add_argument('--gradient_clipping', type=float, default=10.0, help='The gradient clipping value')\n",
    "    return parser.parse_args([])\n",
    "\n",
    "args = parse_arguments()\n",
    "\n",
    "# set random seed\n",
    "torch.manual_seed(args.seed)\n",
    "\n",
    "# set device\n",
    "device = torch.device(\"cuda:0\" if torch.cuda.is_available() else \"cpu\")\n",
    "print(device)\n",
    "\n",
    "# load tokenizer\n",
    "tokenizer = AutoTokenizer.from_pretrained(\n",
    "    args.model,\n",
    "    cache_dir=\"./cache\"\n",
    ")"
   ]
  },
  {
   "cell_type": "code",
   "execution_count": 2,
   "id": "3775d9ef-af17-4563-b72b-55145025a992",
   "metadata": {},
   "outputs": [],
   "source": [
    "import os\n",
    "import pandas as pd\n",
    "from nltk.tokenize import sent_tokenize\n",
    "from operator import itemgetter\n",
    "from sklearn.preprocessing import LabelEncoder\n",
    "import itertools\n",
    "from itertools import chain\n",
    "from datasets import Dataset\n",
    "from transformers import AutoTokenizer\n",
    "import numpy as np\n",
    "from sklearn.model_selection import train_test_split\n",
    "\n",
    "class datacollector:\n",
    "    def __init__(self, name_of_file):\n",
    "        self.name_of_file = name_of_file\n",
    "\n",
    "    def __call__(self,train:bool):\n",
    "        if not isinstance(train, bool):\n",
    "            raise TypeError(\"train parameter must be a boolean\")\n",
    "            \n",
    "        current_directory = os.getcwd()\n",
    "        paths_to_print = self.import_func([self.name_of_file], current_directory)\n",
    "        print(paths_to_print)\n",
    "        doc = self.read_file_to_df(paths_to_print)[0]\n",
    "\n",
    "        train_text_col = doc.iloc[:, 0].to_string(index=False)\n",
    "        train_text = ' '.join(train_text_col.split())\n",
    "\n",
    "        sent_tokenizing = sent_tokenize(train_text)\n",
    "\n",
    "        train_lab_col = doc.iloc[:, 1].to_string(index=False)\n",
    "        train_labels = ' '.join(train_lab_col.split())\n",
    "\n",
    "        train_text_list = train_text_col.split()\n",
    "        train_label_list = train_lab_col.split()\n",
    "        text_sent,label_sent=self.tokenize_text_and_labels(train_text_list, train_label_list)\n",
    " \n",
    "        self.all_labels = list(itertools.chain.from_iterable(label_sent))\n",
    "        label_encoder = LabelEncoder()\n",
    "        label_encoder.fit(self.all_labels)\n",
    "        \n",
    "        numerical_NER = [list(label_encoder.transform(sublist_list)) for sublist_list in label_sent]\n",
    "       \n",
    "\n",
    "        numeric_flatt_unique=list(np.unique(np.array(list(chain.from_iterable(numerical_NER)))))\n",
    "        all_labels_flatt_unique=list(np.unique(np.array(self.all_labels)))\n",
    " \n",
    "        data = {\"tokens\": text_sent, \"ner_tags\": numerical_NER}\n",
    "        # Create a dataset from the Pandas DataFrame\n",
    "        data = Dataset.from_dict(data)\n",
    "\n",
    "        tokenized_data = data.map(self.tokenize_and_adjust_labels, batched=True)\n",
    "        if train==True:\n",
    "             \n",
    "            text_sent_train,text_sent_val,train_label,val_label=train_test_split(text_sent, label_sent,test_size=0.2)\n",
    "\n",
    "            train_numerical_NER=self.numeric_target(train_label)\n",
    "            val_numerical_NER=self.numeric_target(val_label)\n",
    "           \n",
    "            data_train=data = {\"tokens\": text_sent_train, \"ner_tags\": train_numerical_NER[0]}\n",
    "            data_train = Dataset.from_dict(data_train)\n",
    "            data_val = {\"tokens\": text_sent_val, \"ner_tags\": val_numerical_NER[0]}\n",
    "            data_val = Dataset.from_dict(data_val)\n",
    "            tokenized_train_data=data_train.map(self.tokenize_and_adjust_labels, batched=True)\n",
    "            tokenized_eval_data=data_val.map(self.tokenize_and_adjust_labels, batched=True)\n",
    "            return tokenized_train_data,tokenized_eval_data,train_numerical_NER[1],val_numerical_NER[1]\n",
    "        return tokenized_data,all_labels_flatt_unique\n",
    "    \n",
    "    def numeric_target(self,labels):\n",
    "        all_labels = list(itertools.chain.from_iterable(labels))\n",
    "        label_encoder = LabelEncoder()\n",
    "        label_encoder.fit(all_labels)\n",
    "        \n",
    "        numerical_NER = [list(label_encoder.transform(sublist_list)) for sublist_list in labels]\n",
    "       \n",
    "\n",
    "        numeric_flatt_unique=list(np.unique(np.array(list(chain.from_iterable(numerical_NER)))))\n",
    "        all_labels_flatt_unique=list(np.unique(np.array(all_labels)))\n",
    "        return numerical_NER,all_labels_flatt_unique\n",
    "    \n",
    "    def find_substring_index(self, substring_list, string_list):\n",
    "        indexes = []\n",
    "        for substring in substring_list:\n",
    "            try:\n",
    "                index = next(i for i, string in enumerate(string_list) if substring in string)\n",
    "                indexes.append(index)\n",
    "            except StopIteration:\n",
    "                indexes.append(-1)\n",
    "        return indexes\n",
    "\n",
    "    def import_func(self, sub_string_list, current_dir):\n",
    "        dir_path = current_dir\n",
    "\n",
    "        # Construct the base path for the data directory\n",
    "        dir_path = os.path.join(dir_path, \"data\")\n",
    "\n",
    "        files = os.listdir(dir_path)\n",
    "\n",
    "        list_paths = [os.path.join(dir_path, files[i]) for i in range(len(files))]\n",
    "        match_on = self.find_substring_index(sub_string_list, list_paths)\n",
    "\n",
    "        path_get = itemgetter(*match_on)\n",
    "        get_paths = path_get(list_paths)\n",
    "        return get_paths\n",
    "\n",
    "    def read_file_to_df(self, path_in_list):\n",
    "        if not path_in_list:\n",
    "            return []\n",
    "        \n",
    "        df_list = []\n",
    "        path_in_list=[path_in_list]\n",
    "        for path_in in path_in_list:\n",
    "            \n",
    "            with open(path_in, \"rb\") as f:\n",
    "                \n",
    "                df = pd.read_csv(f.name, sep=\"\\t\", header=0)\n",
    "                df_list.append(df)\n",
    "            \n",
    "        return df_list\n",
    "\n",
    "    def tokenize_text_and_labels(self,text_list, labels_list):\n",
    "        \"\"\"\n",
    "        Tokenize the input text into sentences and preserve the one-to-one correspondence\n",
    "        between tokens and labels.\n",
    "    \n",
    "        Args:\n",
    "        - text (str): The input text to tokenize.\n",
    "        - labels (str): The corresponding labels for each word in the text.\n",
    "    \n",
    "        Returns:\n",
    "        - tokenized_texts (list): The tokenized sentences.\n",
    "        - tokenized_labels (list): The corresponding labels for each token.\n",
    "        \"\"\"\n",
    "    \n",
    "    \n",
    "        # Initialize lists to store tokenized text and labels\n",
    "        tokenize_nested_text=[]\n",
    "        tokenize_nested_label=[]\n",
    "        tokenized_texts = []\n",
    "        tokenized_labels = [] \n",
    "        # Keep track of the current index in the tokenized text\n",
    "        current_index = 0\n",
    "        len_text_list=len(text_list)\n",
    "        count_for=0\n",
    "        # Iterate through sentences\n",
    "        for i,word in enumerate(text_list):\n",
    "            count_for+=1\n",
    "            \n",
    "                \n",
    "            \n",
    "            if current_index<=10:\n",
    "                \n",
    "                tokenized_texts.append(word)\n",
    "                \n",
    "                if (\",\" in word or \".\" in word) and len(word)==1:\n",
    "                   \n",
    "                # Append the corresponding label to the tokenized labels\n",
    "                   tokenized_labels.append(\"O\")\n",
    "                   current_index=current_index \n",
    "                else:\n",
    "                    tokenized_labels.append(labels_list[i])\n",
    "                    current_index+=1\n",
    "                \n",
    "            if current_index>10:\n",
    "                current_index=0\n",
    "                tokenized_texts = []\n",
    "                tokenized_labels = [] \n",
    "            \n",
    "            if current_index==10:\n",
    "                tokenize_nested_text.append(tokenized_texts)\n",
    "                tokenize_nested_label.append(tokenized_labels)\n",
    "            \n",
    "            if count_for==len_text_list:\n",
    "               break\n",
    "           \n",
    "            \n",
    "        return tokenize_nested_text, tokenize_nested_label\n",
    "\n",
    "    def tokenize_and_adjust_labels(self,samples_per_split):\n",
    "      tokenized_samples = tokenizer.batch_encode_plus(samples_per_split[\"tokens\"],return_tensors='pt', padding=True, truncation=True ,is_split_into_words=True)\n",
    "     \n",
    "      adjusted_labels = []\n",
    "      print(len(tokenized_samples[\"input_ids\"]))\n",
    "      for k in range(0, len(tokenized_samples[\"input_ids\"])):\n",
    "        prev_wid = -1\n",
    "        word_ids_list = tokenized_samples.word_ids(batch_index=k)\n",
    "        existing_label_ids = samples_per_split[\"ner_tags\"][k]\n",
    "      \n",
    "          \n",
    "        j = -1\n",
    "        adjusted_label_ids = []\n",
    "       \n",
    "        for wid in word_ids_list:\n",
    "          if(wid is None):\n",
    "            adjusted_label_ids.append(-100)\n",
    "          elif(wid!=prev_wid):\n",
    "            j = j + 1\n",
    "            adjusted_label_ids.append(existing_label_ids[j])\n",
    "            prev_wid = wid\n",
    "          else:\n",
    "            label_name = self.all_labels[existing_label_ids[j]]\n",
    "            adjusted_label_ids.append(existing_label_ids[j])\n",
    "            \n",
    "        adjusted_labels.append(adjusted_label_ids)\n",
    "      tokenized_samples[\"labels\"] = adjusted_labels\n",
    "      return tokenized_samples\n",
    "\n",
    "\n",
    "#data_collector = datacollector(\"train-en.tsv.gz\")\n",
    "\n",
    "\n",
    "#train_set=data_collector(train=True)\n",
    "\n",
    "\n",
    "\n",
    "\n"
   ]
  },
  {
   "cell_type": "code",
   "execution_count": 3,
   "id": "53eac6e6-f3b8-4e8e-a887-86a32fbf2f4d",
   "metadata": {},
   "outputs": [],
   "source": [
    "from itertools import chain\n",
    "from torch.nn.utils.rnn import pad_sequence\n",
    "\n",
    "class util_Dataset(torch.utils.data.Dataset):\n",
    "    def __init__(self, data, label_vocab=None):\n",
    "\n",
    "\n",
    "        self.data=data\n",
    "\n",
    "    def __getitem__(self, index):\n",
    "        return self.data[index]\n",
    "\n",
    "    def __len__(self):\n",
    "        return len(self.data)\n",
    "\n",
    "\n",
    "class CollateFunctor:\n",
    "    def __init__(self, tokenizer, max_len):\n",
    "        self.tokenizer = tokenizer\n",
    "        self.max_len = max_len\n",
    "        \n",
    "    def __call__(self, batch):\n",
    "        input_ids = []\n",
    "        token_type_ids = []\n",
    "        attention_mask = []\n",
    "        labels = []\n",
    "        \n",
    "        # Iterate over each sample in the batch\n",
    "        for sample in batch:\n",
    "            # Pad or truncate input_ids, token_type_ids, attention_mask\n",
    "            input_ids.append(torch.tensor(sample[\"input_ids\"]))\n",
    "            token_type_ids.append(torch.tensor(sample[\"token_type_ids\"]))\n",
    "            attention_mask.append(torch.tensor(sample[\"attention_mask\"]))\n",
    "            # Add padding to labels\n",
    "           \n",
    "            labels.append(torch.tensor(sample[\"labels\"] +  (len( input_ids)-len(sample[\"labels\"]))*[-100] ))\n",
    "        \n",
    "        # Pad sequences to ensure uniform length\n",
    "        input_ids = pad_sequence(input_ids, batch_first=True, padding_value=self.tokenizer.pad_token_id)\n",
    "        token_type_ids = pad_sequence(token_type_ids, batch_first=True, padding_value=0,)\n",
    "        attention_mask = pad_sequence(attention_mask, batch_first=True, padding_value=0)\n",
    "        labels = pad_sequence(labels, batch_first=True, padding_value=-100)\n",
    "        labels=torch.stack([term.squeeze(0) for term in labels])\n",
    "        inputs = {\n",
    "            \"input_ids\": input_ids,\n",
    "            \"token_type_ids\": token_type_ids,\n",
    "            \"attention_mask\": attention_mask,\n",
    "            \"labels\": labels\n",
    "        }\n",
    "        #print(inputs)\n",
    "        #print(self.tokenizer.pad_token_id)\n",
    "        #inputs['labels'] = torch.tensor(labels)\n",
    "         \n",
    "        return inputs"
   ]
  },
  {
   "cell_type": "code",
   "execution_count": 4,
   "id": "e1e20d53-dee6-4552-8933-73f71527e068",
   "metadata": {},
   "outputs": [
    {
     "name": "stdout",
     "output_type": "stream",
     "text": [
      "/fp/homes01/u01/ec-rasyed/2024/labs/06/mand2/assignment2/IN5550-mandatory-2/data/train-en.tsv.gz\n"
     ]
    },
    {
     "data": {
      "application/vnd.jupyter.widget-view+json": {
       "model_id": "2646aa4281184d0a8f9a5153619ae934",
       "version_major": 2,
       "version_minor": 0
      },
      "text/plain": [
       "Map:   0%|          | 0/14518 [00:00<?, ? examples/s]"
      ]
     },
     "metadata": {},
     "output_type": "display_data"
    },
    {
     "name": "stderr",
     "output_type": "stream",
     "text": [
      "Asking to truncate to max_length but no maximum length is provided and the model has no predefined maximum length. Default to no truncation.\n"
     ]
    },
    {
     "name": "stdout",
     "output_type": "stream",
     "text": [
      "1000\n",
      "1000\n",
      "1000\n",
      "1000\n",
      "1000\n",
      "1000\n",
      "1000\n",
      "1000\n",
      "1000\n",
      "1000\n",
      "1000\n",
      "1000\n",
      "1000\n",
      "1000\n",
      "518\n"
     ]
    },
    {
     "data": {
      "application/vnd.jupyter.widget-view+json": {
       "model_id": "2c576a09cfd44366aefb4a9141f867b4",
       "version_major": 2,
       "version_minor": 0
      },
      "text/plain": [
       "Map:   0%|          | 0/11614 [00:00<?, ? examples/s]"
      ]
     },
     "metadata": {},
     "output_type": "display_data"
    },
    {
     "name": "stdout",
     "output_type": "stream",
     "text": [
      "1000\n",
      "1000\n",
      "1000\n",
      "1000\n",
      "1000\n",
      "1000\n",
      "1000\n",
      "1000\n",
      "1000\n",
      "1000\n",
      "1000\n",
      "614\n"
     ]
    },
    {
     "data": {
      "application/vnd.jupyter.widget-view+json": {
       "model_id": "ae49a814fcca45a9b74a218fbf6cfbe3",
       "version_major": 2,
       "version_minor": 0
      },
      "text/plain": [
       "Map:   0%|          | 0/2904 [00:00<?, ? examples/s]"
      ]
     },
     "metadata": {},
     "output_type": "display_data"
    },
    {
     "name": "stdout",
     "output_type": "stream",
     "text": [
      "1000\n",
      "1000\n",
      "904\n",
      "/fp/homes01/u01/ec-rasyed/2024/labs/06/mand2/assignment2/IN5550-mandatory-2/data/dev-en.tsv.gz\n"
     ]
    },
    {
     "data": {
      "application/vnd.jupyter.widget-view+json": {
       "model_id": "1d794dbbc761432f9a5e339a69c01332",
       "version_major": 2,
       "version_minor": 0
      },
      "text/plain": [
       "Map:   0%|          | 0/7334 [00:00<?, ? examples/s]"
      ]
     },
     "metadata": {},
     "output_type": "display_data"
    },
    {
     "name": "stdout",
     "output_type": "stream",
     "text": [
      "1000\n",
      "1000\n",
      "1000\n",
      "1000\n",
      "1000\n",
      "1000\n",
      "1000\n",
      "334\n",
      "input_ids:\ttorch.Size([32, 48])\ttorch.int64\n",
      "token_type_ids:\ttorch.Size([32, 48])\ttorch.int64\n",
      "attention_mask:\ttorch.Size([32, 48])\ttorch.int64\n",
      "labels:\ttorch.Size([32, 48])\ttorch.int64\n",
      "Input subwords: "
     ]
    },
    {
     "name": "stderr",
     "output_type": "stream",
     "text": [
      "2024-03-06 22:30:11.242194: E external/local_xla/xla/stream_executor/cuda/cuda_dnn.cc:9261] Unable to register cuDNN factory: Attempting to register factory for plugin cuDNN when one has already been registered\n",
      "2024-03-06 22:30:11.242255: E external/local_xla/xla/stream_executor/cuda/cuda_fft.cc:607] Unable to register cuFFT factory: Attempting to register factory for plugin cuFFT when one has already been registered\n",
      "2024-03-06 22:30:11.243287: E external/local_xla/xla/stream_executor/cuda/cuda_blas.cc:1515] Unable to register cuBLAS factory: Attempting to register factory for plugin cuBLAS when one has already been registered\n",
      "2024-03-06 22:30:11.249740: I tensorflow/core/platform/cpu_feature_guard.cc:182] This TensorFlow binary is optimized to use available CPU instructions in performance-critical operations.\n",
      "To enable the following instructions: AVX2 FMA, in other operations, rebuild TensorFlow with the appropriate compiler flags.\n",
      "2024-03-06 22:30:15.045010: W tensorflow/compiler/tf2tensorrt/utils/py_utils.cc:38] TF-TRT Warning: Could not find TensorRT\n"
     ]
    },
    {
     "name": "stdout",
     "output_type": "stream",
     "text": [
      "`[CLS]` `Sf` `##ânt` `##u` `Gheorghe` `[UNK]` `B` `##ă` `##ile` `Tu` `##ș` `##nad` `[UNK]` `Mi` `##er` `##cure` `##a` `-` `Ci` `##uc` `[UNK]` `Top` `##li` `##ța` `IS` `##U` `JG` `##P` `[SEP]` `[PAD]` `[PAD]` `[PAD]` `[PAD]` `[PAD]` `[PAD]` `[PAD]` `[PAD]` `[PAD]` `[PAD]` `[PAD]` `[PAD]` `[PAD]` `[PAD]` `[PAD]` `[PAD]` `[PAD]` `[PAD]` `[PAD]` "
     ]
    }
   ],
   "source": [
    "#train_set = util_Dataset(train_set)\n",
    "\n",
    "data_collector_train_val = datacollector(\"train-en.tsv.gz\")\n",
    "train_set,val_set,label_unique_train,label_unique_val=data_collector_train_val(train=True)\n",
    "train_set = util_Dataset(train_set)\n",
    "val_set = util_Dataset(val_set)\n",
    "\n",
    "data_collector_test = datacollector(\"dev-en.tsv.gz\")\n",
    "test_set,label_unique_test=data_collector_test(train=False)\n",
    "test_set = util_Dataset(test_set)\n",
    "\n",
    "train_loader = torch.utils.data.DataLoader(\n",
    "train_set, batch_size=args.batch_size, shuffle=True, drop_last=True,\n",
    "collate_fn=CollateFunctor(tokenizer, 40)\n",
    ")\n",
    "\n",
    "val_loader = torch.utils.data.DataLoader(\n",
    "val_set, batch_size=args.batch_size, shuffle=True, drop_last=True,\n",
    "collate_fn=CollateFunctor(tokenizer, 40)\n",
    ")\n",
    "\n",
    "test_loader = torch.utils.data.DataLoader(\n",
    "test_set, batch_size=args.batch_size, shuffle=True, drop_last=True,\n",
    "collate_fn=CollateFunctor(tokenizer, 40)\n",
    ")\n",
    "# Peek at the first batch\n",
    "for batch in train_loader:\n",
    "    for key, value in batch.items():\n",
    "        print(f\"{key}:\\t{value.shape}\\t{value.dtype}\")\n",
    "    break\t\n",
    "\n",
    "\n",
    "print(\"Input subwords: \", end=\"\")\n",
    "for subword_id in batch['input_ids'][0]:\n",
    "    print('`' + tokenizer.decode(subword_id.item()) + '`', end=\" \")"
   ]
  },
  {
   "cell_type": "code",
   "execution_count": 5,
   "id": "065afb32-11ac-4b4d-8ed0-992803b48b04",
   "metadata": {},
   "outputs": [
    {
     "name": "stderr",
     "output_type": "stream",
     "text": [
      "/fp/projects01/ec30/software/easybuild/software/nlpl-pytorch/2.1.2-foss-2022b-cuda-12.0.0-Python-3.10.8/lib/python3.10/site-packages/torch/_utils.py:831: UserWarning: TypedStorage is deprecated. It will be removed in the future and UntypedStorage will be the only storage class. This should only matter to you if you are using storages directly.  To access UntypedStorage directly, use tensor.untyped_storage() instead of tensor.storage()\n",
      "  return self.fget.__get__(instance, owner)()\n",
      "Some weights of BertForTokenClassification were not initialized from the model checkpoint at /fp/homes01/u01/ec-rasyed/2024/labs/06/mand2/bert-base-multilingual-cased and are newly initialized: ['classifier.bias', 'classifier.weight']\n",
      "You should probably TRAIN this model on a down-stream task to be able to use it for predictions and inference.\n"
     ]
    }
   ],
   "source": [
    "from transformers import  TrainingArguments, Trainer\n",
    "import numpy as np\n",
    "from datasets import load_metric\n",
    "from seqeval.metrics import classification_report\n",
    "\n",
    "model = AutoModelForTokenClassification.from_pretrained(\n",
    "    args.model,\n",
    "    cache_dir=\"./cache\",\n",
    "    trust_remote_code=True,\n",
    "    num_labels=7\n",
    ")\n",
    "item_list=[]\n",
    "def train_epoch(model, train_loader, optimizer, lr_scheduler, device):\n",
    "    model.train()\n",
    "    progress_bar = tqdm(train_loader, desc=\"Training\")\n",
    "    for batch in progress_bar:\n",
    "        #batch = batch.to(device)\n",
    "        #.to(device)\n",
    "        optimizer.zero_grad()\n",
    "        #print(batch[\"labels\"])\n",
    "        # forward pass\n",
    "        model_out = model(**batch)\n",
    "        #print(model_out.logits)\n",
    "        \n",
    "        \n",
    "        loss = model_out.loss\n",
    "        \n",
    "        # backward pass\n",
    "        loss.backward()\n",
    "\n",
    "        # update weights\n",
    "        lr_scheduler.step()\n",
    "        optimizer.step()\n",
    "\n",
    "        progress_bar.set_postfix(loss=loss.item(), lr=optimizer.param_groups[0]['lr'])\n",
    "\n",
    "        item_list.append(loss.item())\n",
    "\n",
    "@torch.no_grad()\n",
    "def compute_metrics(model,data,all_labels_flatt_unique):\n",
    "    \n",
    "    all_predictions = []\n",
    "    all_labels = []\n",
    "    model.eval()\n",
    "    total_correct, total_samples = 0, 0\n",
    "    for batch in tqdm(data):\n",
    "        #batch = batch.to(device)\n",
    "        #.to(device)\n",
    "        outputs = model(**batch)\n",
    "        predictions=outputs.logits\n",
    "        labels=batch[\"labels\"]\n",
    "        predictions = np.argmax(predictions, axis=2)\n",
    "\n",
    "        filtered_predictions = []\n",
    "        filtered_labels = []\n",
    "        for pred_seq, label_seq in zip(predictions, labels):\n",
    "            pred_seq_filtered = []\n",
    "            label_seq_filtered = []\n",
    "            for pred, label in zip(pred_seq, label_seq):\n",
    "                if label != -100:\n",
    "                    pred_seq_filtered.append(pred)\n",
    "                    label_seq_filtered.append(label)\n",
    "            filtered_predictions.append(pred_seq_filtered)\n",
    "            filtered_labels.append(label_seq_filtered)\n",
    "\n",
    "           \n",
    "        for pred_seq, label_seq in zip(filtered_predictions, filtered_labels):\n",
    "            pred_labels = [all_labels_flatt_unique[pred] for pred in pred_seq]\n",
    "            true_labels = [all_labels_flatt_unique[label] for label in label_seq]\n",
    "            all_predictions.append(pred_labels)\n",
    "            all_labels.append(true_labels)\n",
    "\n",
    "    # Compute evaluation metrics\n",
    "    report = classification_report(all_labels, all_predictions,output_dict=True)\n",
    "    #print(all_labels[1:100])\n",
    "   # print(all_predictions[1:100])\n",
    "    return report\n",
    "\n",
    "\n",
    "\n"
   ]
  },
  {
   "cell_type": "code",
   "execution_count": 6,
   "id": "f58af8bc-30c5-4278-bf53-86348d5034ba",
   "metadata": {},
   "outputs": [
    {
     "name": "stderr",
     "output_type": "stream",
     "text": [
      "Some weights of BertForTokenClassification were not initialized from the model checkpoint at /fp/homes01/u01/ec-rasyed/2024/labs/06/mand2/bert-base-multilingual-cased and are newly initialized: ['classifier.bias', 'classifier.weight']\n",
      "You should probably TRAIN this model on a down-stream task to be able to use it for predictions and inference.\n"
     ]
    }
   ],
   "source": [
    "from transformers import  TrainingArguments, Trainer\n",
    "import numpy as np\n",
    "from datasets import load_metric\n",
    "from seqeval.metrics import classification_report\n",
    "\n",
    "model = AutoModelForTokenClassification.from_pretrained(\n",
    "    args.model,\n",
    "    cache_dir=\"./cache\",\n",
    "    trust_remote_code=True,\n",
    "    num_labels=7\n",
    ").to(device)\n",
    "loss_list=[]\n",
    "def train_epoch(model, train_loader, optimizer, lr_scheduler, device):\n",
    "    model.train()\n",
    "    progress_bar = tqdm(train_loader, desc=\"Training\")\n",
    "    \n",
    "    for batch in progress_bar:\n",
    "        #batch = batch.to(device)\n",
    "        inputs = {key: value.to(device) for key, value in batch.items()}\n",
    "        #inputs=batch\n",
    "        #.to(device)\n",
    "        optimizer.zero_grad()\n",
    "        #print(batch[\"labels\"])\n",
    "        # forward pass\n",
    "        \n",
    "        model_out = model(**inputs)\n",
    "        #print(model_out.logits)\n",
    "        \n",
    "        \n",
    "        loss = model_out.loss\n",
    "        \n",
    "        # backward pass\n",
    "        loss.backward()\n",
    "\n",
    "        # update weights\n",
    "        lr_scheduler.step()\n",
    "        optimizer.step()\n",
    "\n",
    "        progress_bar.set_postfix(loss=loss.item(), lr=optimizer.param_groups[0]['lr'])\n",
    "        loss_list.append(loss.item())\n",
    " \n",
    "\n",
    "@torch.no_grad()\n",
    "def compute_metrics(model,data,all_labels_flatt_unique):\n",
    "    \n",
    "    all_predictions = []\n",
    "    all_labels = []\n",
    "    model.eval()\n",
    "    total_correct, total_samples = 0, 0\n",
    "    for batch in tqdm(data):\n",
    "        inputs = {key: value.to(device) for key, value in batch.items()}\n",
    "        #.to(device)\n",
    "        #inputs=batch\n",
    "        outputs = model(**inputs)\n",
    "        predictions=outputs.logits.to(\"cpu\")\n",
    "        #predictions=predictions.detach()\n",
    "\n",
    "        labels=batch[\"labels\"]\n",
    "        #print(labels)\n",
    "        predictions = np.argmax(predictions, axis=2)\n",
    "        #print(predictions)\n",
    "     \n",
    "        filtered_predictions = []\n",
    "        filtered_labels = []\n",
    "        for pred_seq, label_seq in zip(predictions, labels):\n",
    "            pred_seq_filtered = []\n",
    "            label_seq_filtered = []\n",
    "            for pred, label in zip(pred_seq, label_seq):\n",
    "                if label != -100:\n",
    "                    pred_seq_filtered.append(pred)\n",
    "                    label_seq_filtered.append(label)\n",
    "            filtered_predictions.append(pred_seq_filtered)\n",
    "            filtered_labels.append(label_seq_filtered)\n",
    "\n",
    "           \n",
    "        for pred_seq, label_seq in zip(filtered_predictions, filtered_labels):\n",
    "            pred_labels = [all_labels_flatt_unique[pred] for pred in pred_seq]\n",
    "            true_labels = [all_labels_flatt_unique[label] for label in label_seq]\n",
    "            all_predictions.append(pred_labels)\n",
    "            all_labels.append(true_labels)\n",
    "\n",
    "    # Compute evaluation metrics\n",
    "    report = classification_report(all_labels, all_predictions,output_dict=True)\n",
    "    #print(all_labels[1:100])\n",
    "   # print(all_predictions[1:100])\n",
    "    return report\n",
    "\n",
    "\n"
   ]
  },
  {
   "cell_type": "code",
   "execution_count": 7,
   "id": "a31155b4-8d51-414f-a4c1-8e828b7ed0cc",
   "metadata": {},
   "outputs": [
    {
     "name": "stderr",
     "output_type": "stream",
     "text": [
      "Training: 100%|██████████| 362/362 [00:28<00:00, 12.88it/s, loss=0.347, lr=5.37e-5]\n",
      "100%|██████████| 90/90 [00:03<00:00, 29.53it/s]\n"
     ]
    },
    {
     "name": "stdout",
     "output_type": "stream",
     "text": [
      "{'LOC': {'precision': 0.8031014078759436, 'recall': 0.8665785997357992, 'f1-score': 0.8336333792227046, 'support': 4542}, 'ORG': {'precision': 0.675097862089732, 'recall': 0.6142465753424657, 'f1-score': 0.6432362645244584, 'support': 3650}, 'PER': {'precision': 0.8140262993112085, 'recall': 0.8248730964467005, 'f1-score': 0.8194138039710054, 'support': 3152}, 'micro avg': {'precision': 0.7689208128941836, 'recall': 0.7738011283497884, 'f1-score': 0.771353251318102, 'support': 11344}, 'macro avg': {'precision': 0.7640751897589614, 'recall': 0.7685660905083219, 'f1-score': 0.765427815906056, 'support': 11344}, 'weighted avg': {'precision': 0.764951047834008, 'recall': 0.7738011283497884, 'f1-score': 0.7684209700335336, 'support': 11344}}\n"
     ]
    },
    {
     "name": "stderr",
     "output_type": "stream",
     "text": [
      "Training: 100%|██████████| 362/362 [00:27<00:00, 13.03it/s, loss=0.404, lr=0]       \n",
      "100%|██████████| 90/90 [00:03<00:00, 29.49it/s]\n"
     ]
    },
    {
     "name": "stdout",
     "output_type": "stream",
     "text": [
      "{'LOC': {'precision': 0.8380266779589244, 'recall': 0.873923603444469, 'f1-score': 0.8555987894509295, 'support': 4529}, 'ORG': {'precision': 0.7057268722466961, 'recall': 0.6639955788891959, 'f1-score': 0.6842255125284737, 'support': 3619}, 'PER': {'precision': 0.8124072425051945, 'recall': 0.8683375634517766, 'f1-score': 0.8394418034043858, 'support': 3152}, 'micro avg': {'precision': 0.7913368704879534, 'recall': 0.8051327433628318, 'f1-score': 0.7981751984910296, 'support': 11300}, 'macro avg': {'precision': 0.7853869309036049, 'recall': 0.8020855819284805, 'f1-score': 0.7930887017945963, 'support': 11300}, 'weighted avg': {'precision': 0.7885093808418704, 'recall': 0.8051327433628318, 'f1-score': 0.7962070452738433, 'support': 11300}}\n"
     ]
    }
   ],
   "source": [
    "optimizer = torch.optim.AdamW(\n",
    "    model.parameters(), lr=args.lr\n",
    ")\n",
    "lr_scheduler = transformers.get_linear_schedule_with_warmup(\n",
    "    optimizer, num_warmup_steps=args.warmup_steps, num_training_steps=len(train_loader) * args.epochs\n",
    ")\n",
    "\n",
    "f1_micro_avg=[]\n",
    "f1_macro_avg=[]\n",
    "f1_weighted_avg=[]\n",
    "for epoch in range(args.epochs):\n",
    "    train_epoch(model, train_loader, optimizer, lr_scheduler, device)\n",
    "    eval_metric_val=compute_metrics(model,val_loader,label_unique_val)\n",
    "    f1_micro_avg.append(eval_metric_val[\"micro avg\"]['f1-score'])\n",
    "    f1_macro_avg.append(eval_metric_val[\"macro avg\"]['f1-score'])\n",
    "    f1_weighted_avg.append(eval_metric_val[\"weighted avg\"]['f1-score'])\n",
    "    print(eval_metric_val)\n",
    "    \n"
   ]
  },
  {
   "cell_type": "code",
   "execution_count": 8,
   "id": "391a54ec-26c5-4cc8-a08d-71ffe6da3e53",
   "metadata": {},
   "outputs": [
    {
     "name": "stderr",
     "output_type": "stream",
     "text": [
      "100%|██████████| 229/229 [00:09<00:00, 25.20it/s]\n"
     ]
    },
    {
     "name": "stdout",
     "output_type": "stream",
     "text": [
      "{'LOC': {'precision': 0.8262187628021302, 'recall': 0.860629854058206, 'f1-score': 0.8430733216286264, 'support': 11717}, 'ORG': {'precision': 0.6806869961444094, 'recall': 0.6267885960193652, 'f1-score': 0.6526268623277697, 'support': 9295}, 'PER': {'precision': 0.8050065876152833, 'recall': 0.8535687071374143, 'f1-score': 0.8285767120754485, 'support': 7874}, 'micro avg': {'precision': 0.777350324597259, 'recall': 0.7834591151422835, 'f1-score': 0.7803927653925068, 'support': 28886}, 'macro avg': {'precision': 0.7706374488539409, 'recall': 0.7803290524049951, 'f1-score': 0.7747589653439482, 'support': 28886}, 'weighted avg': {'precision': 0.7736070326039461, 'recall': 0.7834591151422835, 'f1-score': 0.7778394317572982, 'support': 28886}}\n"
     ]
    }
   ],
   "source": [
    "\n",
    "eval_metric_test=compute_metrics(model,test_loader,label_unique_test)\n",
    "print(eval_metric_test)"
   ]
  },
  {
   "cell_type": "code",
   "execution_count": 159,
   "id": "8a40a046-6a64-48cd-bd52-6d9afbade143",
   "metadata": {},
   "outputs": [
    {
     "data": {
      "text/plain": [
       "' '"
      ]
     },
     "execution_count": 159,
     "metadata": {},
     "output_type": "execute_result"
    }
   ],
   "source": []
  },
  {
   "cell_type": "code",
   "execution_count": 9,
   "id": "cfee955b-08df-4790-8f61-7cd71ee1fe19",
   "metadata": {},
   "outputs": [
    {
     "name": "stderr",
     "output_type": "stream",
     "text": [
      "100%|██████████| 362/362 [00:13<00:00, 26.37it/s]\n"
     ]
    },
    {
     "name": "stdout",
     "output_type": "stream",
     "text": [
      "{'LOC': {'precision': 0.9021499737808075, 'recall': 0.9384170621284024, 'f1-score': 0.9199262091276101, 'support': 18333}, 'ORG': {'precision': 0.8527209904981284, 'recall': 0.7965839553493377, 'f1-score': 0.8236971108716059, 'support': 14871}, 'PER': {'precision': 0.8963386727688787, 'recall': 0.9343988549618321, 'f1-score': 0.9149731371174958, 'support': 12576}, 'micro avg': {'precision': 0.8855921166869248, 'recall': 0.8912407164700743, 'f1-score': 0.8884074380525193, 'support': 45780}, 'macro avg': {'precision': 0.8837365456826048, 'recall': 0.8897999574798575, 'f1-score': 0.886198819038904, 'support': 45780}, 'weighted avg': {'precision': 0.8844972579240417, 'recall': 0.8912407164700743, 'f1-score': 0.8873068829204404, 'support': 45780}}\n"
     ]
    }
   ],
   "source": [
    "eval_metric_train=compute_metrics(model,train_loader,label_unique_test)\n",
    "print(eval_metric_train)"
   ]
  },
  {
   "cell_type": "code",
   "execution_count": 10,
   "id": "02842317-d86b-42b6-9066-0c0d0d4d360c",
   "metadata": {},
   "outputs": [
    {
     "data": {
      "text/plain": [
       "[<matplotlib.lines.Line2D at 0x14f0b6a3f1f0>]"
      ]
     },
     "execution_count": 10,
     "metadata": {},
     "output_type": "execute_result"
    },
    {
     "data": {
      "image/png": "[encoded data removed]",
      "text/plain": [
       "<Figure size 640x480 with 1 Axes>"
      ]
     },
     "metadata": {},
     "output_type": "display_data"
    }
   ],
   "source": [
    "from matplotlib import pyplot as plt\n",
    "\n",
    "plt.plot(range(0,len(f1_micro_avg)),f1_micro_avg)"
   ]
  },
  {
   "cell_type": "code",
   "execution_count": 10,
   "id": "944b61fa-f11e-4f42-b79c-79996fb1b86c",
   "metadata": {},
   "outputs": [
    {
     "data": {
      "text/plain": [
       "{'LOC': {'precision': 1.0, 'recall': 1.0, 'f1-score': 1.0, 'support': 1},\n",
       " 'PER': {'precision': 1.0, 'recall': 1.0, 'f1-score': 1.0, 'support': 1},\n",
       " 'micro avg': {'precision': 1.0, 'recall': 1.0, 'f1-score': 1.0, 'support': 2},\n",
       " 'macro avg': {'precision': 1.0, 'recall': 1.0, 'f1-score': 1.0, 'support': 2},\n",
       " 'weighted avg': {'precision': 1.0,\n",
       "  'recall': 1.0,\n",
       "  'f1-score': 1.0,\n",
       "  'support': 2}}"
      ]
     },
     "execution_count": 10,
     "metadata": {},
     "output_type": "execute_result"
    }
   ],
   "source": [
    "#test classification_report function\n",
    "\n",
    "from seqeval.metrics import classification_report\n",
    "\n",
    "# Example nested lists of predictions and true labels\n",
    "all_predictions = [['O', 'B-PER', 'I-PER', 'O'], ['B-LOC', 'I-LOC', 'O']]\n",
    "all_labels = [['O', 'B-PER', 'I-PER', 'O'], ['B-LOC', 'I-LOC', 'O']]\n",
    "\n",
    "# Compute classification report\n",
    "report = classification_report(all_labels, all_predictions,output_dict=True)\n",
    "\n",
    "# Print the report\n",
    "report"
   ]
  }
 ],
 "metadata": {
  "kernelspec": {
   "display_name": "Python 3 (ipykernel)",
   "language": "python",
   "name": "python3"
  },
  "language_info": {
   "codemirror_mode": {
    "name": "ipython",
    "version": 3
   },
   "file_extension": ".py",
   "mimetype": "text/x-python",
   "name": "python",
   "nbconvert_exporter": "python",
   "pygments_lexer": "ipython3",
   "version": "3.10.8"
  }
 },
 "nbformat": 4,
 "nbformat_minor": 5
}
