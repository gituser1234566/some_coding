{
 "cells": [
  {
   "cell_type": "markdown",
   "metadata": {},
   "source": [
    "\n",
    "# Assignment 1\n",
    "\n",
    "\n",
    "\n",
    "\n",
    "\n",
    "\n",
    "\n",
    "\n",
    "# Problem 1.a\n",
    "\n",
    "\n"
   ]
  },
  {
   "cell_type": "code",
   "execution_count": 3,
   "metadata": {},
   "outputs": [
    {
     "name": "stdout",
     "output_type": "stream",
     "text": [
      "                  he  she  her  him \n",
      "           news  642   77  121   93 \n",
      "       religion  206   12    8   94 \n",
      "        hobbies  196   29   17   49 \n",
      "science_fiction  191   59   82   58 \n",
      "        romance 1068  728  680  340 \n",
      "          humor  195   81   68   48 \n"
     ]
    }
   ],
   "source": [
    "from nltk.corpus import brown\n",
    "import nltk\n",
    "\n",
    "cfd = nltk.ConditionalFreqDist(\n",
    "           (genre, word.lower())\n",
    "           for genre in brown.categories()\n",
    "           for word in brown.words(categories=genre))\n",
    "\n",
    "\n",
    "genres = ['news', 'religion', 'hobbies', 'science_fiction', 'romance', 'humor']\n",
    "modals = [\"he\", \"she\", \"her\", \"him\"]\n",
    "\n",
    "cfd.tabulate(conditions=genres, samples=modals)\n",
    "\n",
    "\n",
    "\n"
   ]
  },
  {
   "cell_type": "markdown",
   "metadata": {},
   "source": [
    "# Problem 1.b\n",
    "\n",
    "we se that he is used much more frequent then she in all genres. One cathegory where she is used the most is in romance but even then he occures 1068 times compared to she.\n",
    "\n",
    "Him is also used more in all genres compared to her except \"her\" is used 680 times in romance compared to him.\n",
    "\n",
    "He is used more then him while her is used more then she."
   ]
  },
  {
   "cell_type": "markdown",
   "metadata": {},
   "source": [
    "# Problem 1.c"
   ]
  },
  {
   "cell_type": "code",
   "execution_count": 2,
   "metadata": {},
   "outputs": [
    {
     "name": "stdout",
     "output_type": "stream",
     "text": [
      "         he  her  him  she \n",
      "  Male 9548    0 2619    0 \n",
      "Female    0 3036    0 2860 \n"
     ]
    }
   ],
   "source": [
    "from nltk.corpus import brown\n",
    "import nltk\n",
    "\n",
    "gender=[\"Male\",\"Female\"]\n",
    "male_pron = [\"he\", \"him\"]\n",
    "female_pron=[\"she\",\"her\"]\n",
    "\n",
    "cfdist = nltk.ConditionalFreqDist()\n",
    "for k in(gender):\n",
    "    for word in brown.words():\n",
    "        word=word.lower()\n",
    "    \n",
    "        if k==\"Male\" and word in  male_pron:\n",
    "            cfdist[k][word] += 1\n",
    "        elif k==\"Female\" and word in  female_pron: \n",
    "            \n",
    "                cfdist[k][word] += 1\n",
    "\n",
    "                \n",
    "cfdist.tabulate(conditions=gender)   \n",
    "\n"
   ]
  },
  {
   "cell_type": "markdown",
   "metadata": {},
   "source": [
    "|       | Nominative      | objecttive  | \n",
    "|-------| -----------     | ----------- |\n",
    "| Female|     2860        | 16          |\n",
    "|  Male |    9546         | 37          |"
   ]
  },
  {
   "cell_type": "code",
   "execution_count": 3,
   "metadata": {},
   "outputs": [
    {
     "name": "stdout",
     "output_type": "stream",
     "text": [
      "relative freq for her 0.5149253731343284\n",
      "relative freq for him 0.21525437659242214\n"
     ]
    }
   ],
   "source": [
    "relative_freq_her=3036/(3036+2860)\n",
    "print(f\"relative freq for her {relative_freq_her}\")\n",
    "relative_freq_him=2619/(9548+2619)\n",
    "print(f\"relative freq for him {relative_freq_him}\")"
   ]
  },
  {
   "cell_type": "markdown",
   "metadata": {},
   "source": [
    "# 1.d   \n"
   ]
  },
  {
   "cell_type": "code",
   "execution_count": 4,
   "metadata": {},
   "outputs": [
    {
     "name": "stdout",
     "output_type": "stream",
     "text": [
      "       he  her hers  him  his  she \n",
      " det    0 1929    0    0 6957    0 \n",
      "pron 9546 1107   16 2619   37 2860 \n"
     ]
    }
   ],
   "source": [
    "cathegory=[\"det\",\"pron\"]\n",
    "pron = [\"she\",\"he\",\"her\", \"him\",\"hers\",\"his\",\"hers\"]\n",
    "\n",
    "\n",
    "cfd = nltk.ConditionalFreqDist()\n",
    "a=nltk.corpus.brown.tagged_words(tagset='universal')\n",
    "alower = [(x.lower(), y.lower()) for x,y in a]\n",
    "\n",
    "\n",
    "for k in(cathegory):\n",
    "    for word in alower:\n",
    "        \n",
    "        \n",
    "        if  k==\"det\" and (word[0] in  pron) and (word[1]==\"det\") :\n",
    "            cfd[k][word[0]] += 1\n",
    "            \n",
    "        elif k==\"pron\" and (word[0] in  pron) and (word[1]==\"pron\"): \n",
    "            \n",
    "                cfd[k][word[0]] += 1\n",
    "                \n",
    "cfd.tabulate(conditions=cathegory)                 "
   ]
  },
  {
   "cell_type": "markdown",
   "metadata": {},
   "source": [
    "|                   |  Possessive pronoun      | Personal pronoun        | \n",
    "|-------            | -----------              | -----------             |\n",
    "| she,he,her,him    |     1929                 | 16587                   |\n",
    "|  her,his,hers     |    8886                  | 1160                    |"
   ]
  },
  {
   "cell_type": "markdown",
   "metadata": {},
   "source": [
    "# 1.e\n",
    "\n",
    "Feminine personal pronoun in nomitative form accure 2860/(1107+16+2860)=0.718 or 71,8 % of the time.While in objective form 16/(1107+16+2860)=0.004 or 0.4% .  \n",
    "\n",
    "\n",
    "Male personal pronoun in nomitative form accure  9546/(9546+2619+37)=0.782 or 78,2% of the time . While in objective form 2619/(9546+2619+37)=0.214 or 21.4%."
   ]
  },
  {
   "cell_type": "markdown",
   "metadata": {},
   "source": [
    "# 1.f"
   ]
  },
  {
   "cell_type": "code",
   "execution_count": 3,
   "metadata": {},
   "outputs": [
    {
     "name": "stdout",
     "output_type": "stream",
     "text": [
      "       he  her hers  him  his  she \n",
      " det    0 1929    0    0 6957    0 \n",
      "pron 9546 1107   16 2619   37 2860 \n"
     ]
    },
    {
     "data": {
      "text/plain": [
       "<matplotlib.axes._subplots.AxesSubplot at 0x18fe46e7af0>"
      ]
     },
     "execution_count": 3,
     "metadata": {},
     "output_type": "execute_result"
    },
    {
     "data": {
      "image/png": "[encoded data removed]",
      "text/plain": [
       "<Figure size 432x288 with 1 Axes>"
      ]
     },
     "metadata": {
      "needs_background": "light"
     },
     "output_type": "display_data"
    }
   ],
   "source": [
    "\n",
    "import pandas as pd\n",
    "counts = {}\n",
    "for cat in cathegory:\n",
    "    counts[cat] = [cfd[cat][word] for word in pron]\n",
    "df = pd.DataFrame(list(counts.values()), counts.keys(), pron)\n",
    "df.plot(kind='bar')"
   ]
  },
  {
   "cell_type": "markdown",
   "metadata": {},
   "source": [
    "# 1.g\n",
    "\n",
    "The Brown corpus is from 1961. At that time men where a lot more in focus in the literature.One saw that in romance the female pronoun accured a lot more times compared to the other cathegories.\n",
    "\n",
    "One can see that there is a different distribution between nominative \n",
    "and objective forms for the masculine and the feminine pronouns. The personal pronoun in nominative form has a almost equal distribution the difference lie in the objective form of the personal pronoun.Where male has 21.4% and femal has 0.4%.\n",
    "\n",
    "Possessive pronouns show that something belongs to someone (source Google). Pocessive pronoun occure much more frequent in male then in female,which can be seen from the bar plot.This could be an indication of the difference in ownership between the genders. Looking at things from an historical perspective,men used to own a lot more things,compared to weman.In the 1960s often the man was the only source of income in most families. This is just assumptions i am making without reading the brown corpus.\n",
    "\n",
    "Also most of the literature was written though the lence of the male. A common sentence which one will find in a lot of text,generelly speaking is (1)\"his wife\" or (2)\"her husband\".If bought phrases do accure in the brown corpus then the chance of (1) occuring more often then (2) is probably higher then the other way around.\n",
    "\n",
    "Baisng my assumptions of the frequencies calculated from the brown corpus.\n",
    "\n",
    "\n"
   ]
  },
  {
   "cell_type": "markdown",
   "metadata": {},
   "source": [
    "# 2.a,b,c\n",
    "\n",
    "\n",
    "# c \n",
    "\n",
    "I removed the introduction of the book.Discription about the auturs ,the table of content ect....  . I also removed the last part right after the conclution.\n",
    "\n",
    "I decided to casefold sence i saw that in the problem is interested in the frequencies of words.\n",
    "\n",
    "I do explain in the code what i do."
   ]
  },
  {
   "cell_type": "code",
   "execution_count": 36,
   "metadata": {},
   "outputs": [],
   "source": [
    "\n",
    "import numpy as np    \n",
    "import string      \n",
    "import urllib.request\n",
    "import nltk as n\n",
    "from nltk import tokenize\n",
    "import re\n",
    "\n",
    "\n",
    "string\n",
    "# open a connection to a URL \n",
    "webUrl = urllib.request.urlopen(\n",
    "    \"https://www.gutenberg.org/files/74/74-0.txt\"\n",
    ")\n",
    "\n",
    "\n",
    "\n",
    "# read the data from the URL and print it\n",
    "data = webUrl.read().decode(\"utf-8\")\n",
    "\n",
    "\n",
    "def find_n(sett, point, n):\n",
    "    start = sett.find(point)\n",
    "    while start >= 0 and n > 1:\n",
    "        start = sett.find(point, start+1)\n",
    "        n -= 1\n",
    "    return start\n",
    "\n",
    "#print(find_n(data, \"END OF THE PROJECT GUTENBERG EBOOK\", 1))\n",
    "\n",
    "#using only the book not the rest \n",
    "data=data[8003:402280]\n",
    "#print(data)\n",
    "\n",
    "data = data.split(\"\\n \")\n",
    "#print(data)\n",
    "new_data=[]\n",
    "\n",
    "#tokenizing\n",
    "data = [s.lower() for p in data\n",
    "            for s in n.word_tokenize(p) ]\n",
    "\n",
    "#getting rid of puntuations\n",
    "for word in data:\n",
    "    if word in string.punctuation:\n",
    "       continue \n",
    "    if (word in \"”“’* _- —\"):\n",
    "        \n",
    "        \n",
    "        continue\n",
    "    else:    \n",
    "        new_data.append(word)\n",
    "\n",
    "#print(new_data)\n",
    "            \n",
    "        \n",
    "        \n",
    "#still their are puntuations,but not seperated by tokenizer puntations in the beginning \n",
    "#and end of words in new_data,using ascii delte these. Replacing all the punctions with None.\n",
    "mydict={}\n",
    "for i in range(32,65):\n",
    "    mydict[i]=None\n",
    "\n",
    "for i in range(91,97):\n",
    "    mydict[i]=None    \n",
    "\n",
    "for i in range(123,256):\n",
    "    mydict[i]=None    \n",
    "    \n",
    "\n",
    "\n",
    "new_data_nr2=[]\n",
    "for word in new_data:\n",
    "    new_data_nr2.append(str(word.translate(mydict)))\n",
    "    \n",
    "\n",
    "#print(new_data_nr2)\n",
    "    \n",
    "\n",
    "    "
   ]
  },
  {
   "cell_type": "code",
   "execution_count": 43,
   "metadata": {},
   "outputs": [],
   "source": [
    "#still not rid of one of the puntuations,using this to split words that are combined by multiple words where \"—\" \n",
    "#is in the middle of them special puntiation,previous comandes did not take them away. \n",
    "punctuation=\"—\"\n",
    "l=[]\n",
    "for word in new_data_nr2:\n",
    "    if any(x.isalpha() for x in word ) and (x in punctuation for x in word):\n",
    "        for c in word:\n",
    "            if c in punctuation:\n",
    "                word=word.split(c)\n",
    "                   \n",
    "                break\n",
    "        \n",
    "        l.append(word)\n",
    "\n",
    "#print(l)\n",
    "\n",
    "#Now i have a list with mostly words but still scince i used split their are some list in thier.\n",
    "#Using this function to solve that.\n",
    "def flat_listt(_list):\n",
    "    flat_list = []\n",
    "    # Iterate through the outer list\n",
    "    for element in _list:\n",
    "        if type(element) is list:\n",
    "            # If the element is of type list, iterate through the sublist\n",
    "            for item in element:\n",
    "                flat_list.append(item)\n",
    "        else:\n",
    "            flat_list.append(element)\n",
    "    return flat_list        \n",
    "        \n",
    "l=flat_listt(l)\n",
    "\n",
    "#print(l)\n",
    "        \n"
   ]
  },
  {
   "cell_type": "markdown",
   "metadata": {},
   "source": [
    "# 2.d\n",
    "\n",
    "20 most frequent words in a table"
   ]
  },
  {
   "cell_type": "code",
   "execution_count": 44,
   "metadata": {},
   "outputs": [
    {
     "name": "stdout",
     "output_type": "stream",
     "text": [
      "    word  Freq\n",
      "0    the  3702\n",
      "1    and  3087\n",
      "2      a  1830\n",
      "3     to  1711\n",
      "4     of  1434\n",
      "5     it  1315\n",
      "6     he  1252\n",
      "7    was  1168\n",
      "8   that  1026\n",
      "9      i  1015\n",
      "10    in   941\n",
      "11   you   893\n",
      "12     s   844\n",
      "13   his   815\n",
      "14   tom   773\n",
      "15     t   678\n",
      "16  with   647\n",
      "17  they   617\n",
      "18   but   581\n",
      "19   for   525\n"
     ]
    }
   ],
   "source": [
    "from collections import Counter\n",
    "import pandas as pd\n",
    "Freq=nltk.FreqDist(l)\n",
    "#print(Freq)\n",
    "Freq1=Counter(Freq)    \n",
    "    \n",
    "Freq1=Freq1.most_common(20)    \n",
    "\n",
    "df = pd.DataFrame(Freq1, columns =['word', 'Freq'])\n",
    "\n",
    "print(df)   \n",
    "\n",
    "\n",
    "\n",
    "\n",
    "    "
   ]
  },
  {
   "cell_type": "markdown",
   "metadata": {},
   "source": [
    "# 2.e"
   ]
  },
  {
   "cell_type": "code",
   "execution_count": 45,
   "metadata": {},
   "outputs": [
    {
     "name": "stdout",
     "output_type": "stream",
     "text": [
      "<class 'list'>\n",
      "     1   2-10  11-50   100+ 51-100 \n",
      "  3668   2986    489    111     83 \n"
     ]
    }
   ],
   "source": [
    "Freq=nltk.FreqDist(l)\n",
    "Freq=Counter(Freq)    \n",
    "    \n",
    "Freq=Freq.most_common(len(l))\n",
    "print(type(Freq))\n",
    "dict_1=dict(Freq)\n",
    "freq=nltk.FreqDist()\n",
    "\n",
    "\n",
    "Cathegory=[\"1\",\"2-10\",\"11-50\",\"51-100\",\"100+\"]\n",
    "for key in dict_1:\n",
    "    if dict_1[key]==1:\n",
    "        freq[Cathegory[0]]+=1\n",
    "    if dict_1[key]>=2 and dict_1[key]<=10:\n",
    "        freq[Cathegory[1]]+=1\n",
    "    if dict_1[key]>=11 and dict_1[key]<=50:\n",
    "        freq[Cathegory[2]]+=1    \n",
    "    if dict_1[key]>=51 and dict_1[key]<=100:\n",
    "        freq[Cathegory[3]]+=1 \n",
    "    if dict_1[key]>=100 :\n",
    "        freq[Cathegory[4]]+=1     \n",
    "        \n",
    "freq.tabulate(conditions=Cathegory)\n",
    "        \n",
    "\n",
    "\n",
    "\n"
   ]
  },
  {
   "cell_type": "markdown",
   "metadata": {},
   "source": [
    "# 2.f\n",
    "\n"
   ]
  },
  {
   "cell_type": "code",
   "execution_count": 40,
   "metadata": {},
   "outputs": [],
   "source": [
    "import matplotlib.pyplot as plt\n",
    "Freq=nltk.FreqDist(l)\n",
    "\n",
    "Freq1=Counter(Freq)    \n",
    "    \n",
    "Freq1=Freq1.most_common(len(l)) \n",
    "\n",
    "df = pd.DataFrame(Freq1, columns =['word', 'Freq'])\n",
    "\n",
    "freq_num=np.asarray(df.iloc[:,1])\n",
    "\n",
    "Zipf=np.zeros(len(freq_num))\n",
    "\n",
    "rank=np.zeros(len(freq_num))\n",
    "for n in range(0,len(freq_num)):\n",
    "\n",
    "    Zipf[n]=(n+1)*freq_num[n]\n",
    "    rank[n]=(n+1)\n",
    "\n",
    "Zipf=pd.DataFrame(Zipf, columns =[\"Zipf\"])\n",
    "\n",
    "\n",
    "\n",
    "frames = [df,Zipf]\n",
    "result = pd.concat(frames, axis=1, ignore_index=True)\n",
    "\n",
    "\n",
    "result.columns = ['word', 'freq', 'Zipf']\n",
    "\n"
   ]
  },
  {
   "cell_type": "markdown",
   "metadata": {},
   "source": [
    "One can see from the table under that Zipf=n*r is not constant.Zipf law is doing well"
   ]
  },
  {
   "cell_type": "code",
   "execution_count": 41,
   "metadata": {},
   "outputs": [
    {
     "name": "stdout",
     "output_type": "stream",
     "text": [
      "    word  freq     Zipf\n",
      "0    the  3702   3702.0\n",
      "1    and  3087   6174.0\n",
      "2      a  1830   5490.0\n",
      "3     to  1711   6844.0\n",
      "4     of  1434   7170.0\n",
      "5     it  1315   7890.0\n",
      "6     he  1252   8764.0\n",
      "7    was  1168   9344.0\n",
      "8   that  1026   9234.0\n",
      "9      i  1015  10150.0\n",
      "10    in   941  10351.0\n",
      "11   you   893  10716.0\n",
      "12     s   844  10972.0\n",
      "13   his   815  11410.0\n",
      "14   tom   773  11595.0\n",
      "15     t   678  10848.0\n",
      "16  with   647  10999.0\n",
      "17  they   617  11106.0\n",
      "18   but   581  11039.0\n",
      "19   for   525  10500.0\n"
     ]
    }
   ],
   "source": [
    "Zipf=pd.DataFrame(Zipf, columns =[\"Zipf\"])\n",
    "\n",
    "\n",
    "\n",
    "frames = [df,Zipf]\n",
    "result = pd.concat(frames, axis=1, ignore_index=True)\n",
    "\n",
    "\n",
    "result.columns = ['word', 'freq', 'Zipf']\n",
    "\n",
    "print(result[0:20])"
   ]
  },
  {
   "cell_type": "markdown",
   "metadata": {},
   "source": [
    "# 2.g"
   ]
  },
  {
   "cell_type": "code",
   "execution_count": 42,
   "metadata": {},
   "outputs": [
    {
     "data": {
      "image/png": "[encoded data removed]",
      "text/plain": [
       "<Figure size 432x288 with 1 Axes>"
      ]
     },
     "metadata": {
      "needs_background": "light"
     },
     "output_type": "display_data"
    },
    {
     "data": {
      "image/png": "[encoded data removed]",
      "text/plain": [
       "<Figure size 432x288 with 1 Axes>"
      ]
     },
     "metadata": {
      "needs_background": "light"
     },
     "output_type": "display_data"
    }
   ],
   "source": [
    "plt.plot(rank,freq_num)\n",
    "plt.show()\n",
    "plt.plot(np.log(rank),np.log(freq_num))\n",
    "plt.show()"
   ]
  },
  {
   "cell_type": "markdown",
   "metadata": {},
   "source": [
    "# Part B"
   ]
  },
  {
   "cell_type": "markdown",
   "metadata": {},
   "source": [
    "# 1.a\n",
    "\n",
    "Following the steps"
   ]
  },
  {
   "cell_type": "code",
   "execution_count": 19,
   "metadata": {},
   "outputs": [],
   "source": [
    "import nltk\n",
    "import random\n",
    "import numpy as np\n",
    "import scipy as sp\n",
    "import sklearn\n",
    "from sklearn.feature_extraction.text import CountVectorizer\n",
    "from sklearn.naive_bayes import MultinomialNB\n",
    "from sklearn.linear_model import LogisticRegression"
   ]
  },
  {
   "cell_type": "code",
   "execution_count": 20,
   "metadata": {},
   "outputs": [],
   "source": [
    "from nltk.corpus import movie_reviews\n",
    "\n",
    "\n",
    "\n",
    "\n",
    "\n",
    "\n",
    "raw_movie_docs = [(movie_reviews.raw(fileid), category) for\n",
    "category in movie_reviews.categories() for fileid in\n",
    "movie_reviews.fileids(category)]\n",
    "\n",
    "\n",
    "\n",
    "#raw_movie_docs.target[:10]\n",
    "#print(movie_reviews.raw(movie_reviews.fileids(movie_reviews.categories())[5]))\n",
    "\n",
    "\n",
    "random.seed(2920)\n",
    "random.shuffle(raw_movie_docs)\n",
    "movie_test = raw_movie_docs[:200]\n",
    "movie_dev = raw_movie_docs[200:]\n",
    "\n",
    "train_data= movie_dev[200:]\n",
    "test_data_dev=movie_dev[:200]\n",
    "\n",
    "dict_train=dict(train_data)\n",
    "dict_test=dict(test_data_dev)\n",
    "\n",
    "train_data_target=list(dict_train.values())\n",
    "train_data_text=list(dict_train.keys())\n",
    "\n",
    "test_data_dev_target=list(dict_test.values())\n",
    "test_data_dev_text=list(dict_test.keys())\n",
    "\n",
    "\n",
    "\n",
    "#print(test_data_dev_text)\n",
    "\n",
    "\n",
    "\n",
    "\n"
   ]
  },
  {
   "cell_type": "code",
   "execution_count": 21,
   "metadata": {},
   "outputs": [
    {
     "name": "stdout",
     "output_type": "stream",
     "text": [
      "0.8\n"
     ]
    }
   ],
   "source": [
    "from sklearn.feature_extraction.text import CountVectorizer\n",
    "\n",
    "v = CountVectorizer()\n",
    "v.fit(train_data_text)\n",
    "\n",
    "\n",
    "\n",
    "train_vectors = v.transform(train_data_text)\n",
    "\n",
    "\n",
    "dev_test_vectors = v.transform(test_data_dev_text)\n",
    "\n",
    "clf = MultinomialNB()\n",
    "clf.fit(train_vectors, train_data_target)\n",
    "\n",
    "clf_pred=clf.predict(dev_test_vectors)\n",
    "\n",
    "from sklearn import metrics\n",
    "print(metrics.accuracy_score(test_data_dev_target,clf_pred))\n"
   ]
  },
  {
   "cell_type": "markdown",
   "metadata": {},
   "source": [
    "# 1.b\n",
    "\n",
    "creating a table variyng the parameters of CountVectorizer"
   ]
  },
  {
   "cell_type": "code",
   "execution_count": 22,
   "metadata": {},
   "outputs": [],
   "source": [
    "booll=[True,False]\n",
    "n_gram=[(1,1),(1,2),(1,3)]\n",
    "store=np.zeros((2, 3))\n",
    "for i in range(len(booll)):\n",
    "    \n",
    "    for j in range(len(n_gram)):\n",
    "        v = CountVectorizer(ngram_range=n_gram[j],binary=booll[i])\n",
    "        v.fit(train_data_text)\n",
    "\n",
    "        train_vectors = v.transform(train_data_text)\n",
    "        dev_test_vectors = v.transform(test_data_dev_text)\n",
    "\n",
    "        clf = MultinomialNB()\n",
    "        clf.fit(train_vectors, train_data_target)\n",
    "        \n",
    "\n",
    "        clf.predict(dev_test_vectors)\n",
    "        a=clf.score(dev_test_vectors, test_data_dev_target)\n",
    "        #print(a)\n",
    "        store[i][j]=a\n",
    "\n",
    "        \n",
    "\n",
    "        "
   ]
  },
  {
   "cell_type": "code",
   "execution_count": 23,
   "metadata": {},
   "outputs": [
    {
     "name": "stdout",
     "output_type": "stream",
     "text": [
      "              (1,1)  (1,2)  (1,3)\n",
      "binary=True    0.81  0.815  0.815\n",
      "binary=False   0.80  0.805  0.780\n"
     ]
    }
   ],
   "source": [
    "\n",
    "import pandas as pd\n",
    "df = pd.DataFrame(store,index=[\"binary=True\",\"binary=False\"], columns =['(1,1)', '(1,2)','(1,3)'])\n",
    "print(df)\n"
   ]
  },
  {
   "cell_type": "markdown",
   "metadata": {},
   "source": [
    "# 2.a \n",
    "\n",
    "Using 9 fold crossvalidation"
   ]
  },
  {
   "cell_type": "code",
   "execution_count": 24,
   "metadata": {},
   "outputs": [],
   "source": [
    "\n",
    "import math\n",
    "import random\n",
    "n=len(movie_dev)\n",
    "K=9\n",
    "random.seed(10)\n",
    "\n",
    "store=np.zeros(K)\n",
    "\n",
    "index=np.random.choice(np.repeat(np.array(range(1,10)), math.ceil(n/K)),n)\n",
    "movie_dev =  raw_movie_docs[200:]\n",
    "\n",
    "dict_dev=dict(movie_dev)\n",
    "\n",
    "\n",
    "dev_target=list(dict_dev.values())\n",
    "dev_text=list(dict_dev.keys())\n",
    "dev_target_array= np.array(dev_target)\n",
    "dev_text_array= np.array(dev_text)\n",
    "\n",
    "\n",
    "for k in range(0,K):\n",
    "    v = CountVectorizer(ngram_range=(1,2),binary=True)\n",
    "    v.fit(dev_text_array)\n",
    "    dev_vectors = v.transform(dev_text_array)\n",
    "    clf = MultinomialNB()\n",
    "    clf.fit(dev_vectors[index!=k+1], dev_target_array[index!=k+1])\n",
    "    clf.predict(dev_vectors[index==k+1])\n",
    "    a=clf.score(dev_vectors[index==k+1], dev_target_array[index==k+1])\n",
    "    store[k]=a\n",
    "#print(store)\n",
    "    \n",
    "#filter1=index != 1\n",
    "\n",
    "#movie_dev[filter1]\n"
   ]
  },
  {
   "cell_type": "code",
   "execution_count": 26,
   "metadata": {},
   "outputs": [
    {
     "name": "stdout",
     "output_type": "stream",
     "text": [
      " accuracy score for all runs: [0.87772926 0.91363636 0.83243243 0.84651163 0.84079602 0.88888889\n",
      " 0.86931818 0.8040201  0.83589744]\n",
      " mean: 0.8565811454028012\n",
      " sd: 0.03168029172236508\n"
     ]
    }
   ],
   "source": [
    "print(f\" accuracy score for all runs: {store}\")\n",
    "\n",
    "mean=np.mean(store)\n",
    "print(f\" mean: {mean}\")\n",
    "\n",
    "sd=np.std(store)\n",
    "\n",
    "print(f\" sd: {sd}\")\n"
   ]
  },
  {
   "cell_type": "markdown",
   "metadata": {},
   "source": [
    "# 2.b\n",
    "\n",
    "I see an improvment for all of the parameters of CountVectorizer\n"
   ]
  },
  {
   "cell_type": "code",
   "execution_count": 30,
   "metadata": {},
   "outputs": [],
   "source": [
    "import math\n",
    "import random\n",
    "n=len(movie_dev)\n",
    "K=9\n",
    "random.seed(10)\n",
    "\n",
    "store1=np.zeros(K)\n",
    "index=np.random.choice(np.repeat(np.array(range(1,10)), math.ceil(n/K)),n)\n",
    "movie_dev =  raw_movie_docs[200:]\n",
    "\n",
    "dict_dev=dict(movie_dev)\n",
    "\n",
    "\n",
    "dev_target=list(dict_dev.values())\n",
    "dev_text=list(dict_dev.keys())\n",
    "dev_target_array= np.array(dev_target)\n",
    "dev_text_array= np.array(dev_text)\n",
    "\n",
    "booll=[True,False]\n",
    "n_gram=[(1,1),(1,2),(1,3)]\n",
    "store2=np.zeros((2, 3))\n",
    "for i in range(len(booll)):\n",
    "    \n",
    "    for j in range(len(n_gram)):\n",
    "        v = CountVectorizer(ngram_range=n_gram[j],binary=booll[i])\n",
    "        \n",
    "        for k in range(0,K):\n",
    "           \n",
    "            v.fit(dev_text_array)\n",
    "            dev_vectors = v.transform(dev_text_array)\n",
    "            clf = MultinomialNB()\n",
    "            clf.fit(dev_vectors[index!=k+1], dev_target_array[index!=k+1])\n",
    "            clf.predict(dev_vectors[index==k+1])\n",
    "            a=clf.score(dev_vectors[index==k+1], dev_target_array[index==k+1])\n",
    "            store1[k]=a\n",
    "       \n",
    "\n",
    "        \n",
    "        mean=np.mean(store1)                            \n",
    "        store2[i][j]=mean\n",
    "        #print(store)\n",
    "    "
   ]
  },
  {
   "cell_type": "code",
   "execution_count": 31,
   "metadata": {},
   "outputs": [
    {
     "name": "stdout",
     "output_type": "stream",
     "text": [
      "                 (1,1)     (1,2)     (1,3)\n",
      "binary=True   0.825571  0.858470  0.848744\n",
      "binary=False  0.816682  0.843359  0.848258\n"
     ]
    }
   ],
   "source": [
    "import pandas as pd\n",
    "df = pd.DataFrame(store2,index=[\"binary=True\",\"binary=False\"], columns =['(1,1)', '(1,2)','(1,3)'])\n",
    "print(df)"
   ]
  },
  {
   "cell_type": "markdown",
   "metadata": {},
   "source": [
    "# 3"
   ]
  },
  {
   "cell_type": "code",
   "execution_count": 32,
   "metadata": {},
   "outputs": [],
   "source": [
    "from sklearn.preprocessing import StandardScaler\n",
    "import math\n",
    "import random\n",
    "n=len(movie_dev)\n",
    "K=9\n",
    "random.seed(100)\n",
    "\n",
    "store3=np.zeros((2,K))\n",
    "index=np.random.choice(np.repeat(np.array(range(1,10)), math.ceil(n/K)),n)\n",
    "movie_dev =  raw_movie_docs[200:]\n",
    "\n",
    "dict_dev=dict(movie_dev)\n",
    "\n",
    "\n",
    "dev_target=list(dict_dev.values())\n",
    "dev_text=list(dict_dev.keys())\n",
    "dev_target_array= np.array(dev_target)\n",
    "dev_text_array= np.array(dev_text)\n",
    "\n",
    "v=[CountVectorizer(),CountVectorizer(ngram_range=(1,2),binary=True)]\n",
    "\n",
    "booll=[True,False]\n",
    "\n",
    "store4=np.zeros((2, 2))\n",
    "\n",
    "    \n",
    "for j in range(len(store4)):\n",
    "        \n",
    "        \n",
    "    for k in range(0,K):\n",
    "           \n",
    "        v[j].fit(dev_text_array)\n",
    "        dev_vectors = v[j].transform(dev_text_array)\n",
    "        \n",
    "        clf = LogisticRegression(solver='liblinear',max_iter=100)\n",
    "        clf2= MultinomialNB()\n",
    "        clf2.fit(dev_vectors[index!=k+1], dev_target_array[index!=k+1])\n",
    "        clf.fit(dev_vectors[index!=k+1], dev_target_array[index!=k+1])\n",
    "        \n",
    "        clf.predict(dev_vectors[index==k+1])\n",
    "        clf2.predict(dev_vectors[index==k+1])\n",
    "        a=clf.score(dev_vectors[index==k+1], dev_target_array[index==k+1])\n",
    "        b=clf2.score(dev_vectors[index==k+1], dev_target_array[index==k+1])\n",
    "        store3[0][k]=a\n",
    "        store3[1][k]=b\n",
    "       \n",
    "\n",
    "        \n",
    "    mean1=np.mean(store3[0])\n",
    "    mean2=np.mean(store3[1])\n",
    "    store4[j][0]=mean1\n",
    "    store4[j][1]=mean2\n",
    "    \n",
    "    \n",
    "\n",
    "\n"
   ]
  },
  {
   "cell_type": "code",
   "execution_count": 33,
   "metadata": {},
   "outputs": [
    {
     "name": "stdout",
     "output_type": "stream",
     "text": [
      "         logistic     Bayes\n",
      "default  0.836596  0.815924\n",
      "best     0.875418  0.850441\n"
     ]
    }
   ],
   "source": [
    "import pandas as pd\n",
    "df = pd.DataFrame(store4,index=[\"default\",\"best\"], columns =['logistic', 'Bayes'])\n",
    "print(df)"
   ]
  },
  {
   "cell_type": "markdown",
   "metadata": {},
   "source": [
    "One can see that the Logistic regression is doing better then Naive Bayes.For bought for \"default\" and \"best\"."
   ]
  },
  {
   "cell_type": "code",
   "execution_count": null,
   "metadata": {},
   "outputs": [],
   "source": []
  }
 ],
 "metadata": {
  "kernelspec": {
   "display_name": "Python 3 (ipykernel)",
   "language": "python",
   "name": "python3"
  },
  "language_info": {
   "codemirror_mode": {
    "name": "ipython",
    "version": 3
   },
   "file_extension": ".py",
   "mimetype": "text/x-python",
   "name": "python",
   "nbconvert_exporter": "python",
   "pygments_lexer": "ipython3",
   "version": "3.8.3"
  }
 },
 "nbformat": 4,
 "nbformat_minor": 4
}
